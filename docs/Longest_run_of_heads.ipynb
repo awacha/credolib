{
 "cells": [
  {
   "cell_type": "markdown",
   "metadata": {},
   "source": [
    "# The Schilling distribution in CorMap\n",
    "\n",
    "András Wacha\n",
    "\n",
    "27th Oct. 2016."
   ]
  },
  {
   "cell_type": "markdown",
   "metadata": {},
   "source": [
    "# Initialization"
   ]
  },
  {
   "cell_type": "code",
   "execution_count": 1,
   "metadata": {
    "collapsed": false
   },
   "outputs": [
    {
     "name": "stdout",
     "output_type": "stream",
     "text": [
      "Populating the interactive namespace from numpy and matplotlib\n"
     ]
    }
   ],
   "source": [
    "%pylab inline\n",
    "%load_ext cython\n",
    "import time\n",
    "import ipy_table\n",
    "import numpy as np\n",
    "import matplotlib.pyplot as plt"
   ]
  },
  {
   "cell_type": "markdown",
   "metadata": {},
   "source": [
    "# Definition of the algorithms"
   ]
  },
  {
   "cell_type": "markdown",
   "metadata": {},
   "source": [
    "## Algorithms according Schilling's paper\n",
    "I have implemented these in Cython for the sake of speed"
   ]
  },
  {
   "cell_type": "code",
   "execution_count": 2,
   "metadata": {
    "collapsed": false
   },
   "outputs": [],
   "source": [
    "%%cython\n",
    "cimport numpy as np\n",
    "import numpy as np\n",
    "np.import_array()\n",
    "\n",
    "cdef Py_ssize_t A_(Py_ssize_t n, Py_ssize_t x):\n",
    "    \"\"\"Calculate A_n(x) as per Schilling's original paper\"\"\"\n",
    "    cdef Py_ssize_t j\n",
    "    cdef Py_ssize_t val=0\n",
    "    if n<=x:\n",
    "        return 2**n\n",
    "    else:\n",
    "        for j in range(0, x+1):\n",
    "            val += A_(n-1-j, x)\n",
    "        return val\n",
    "    \n",
    "def A(n, x):\n",
    "    \"\"\"Python interface for A_(n, x)\"\"\"\n",
    "    return A_(n,x)\n",
    "    \n",
    "def Amatrix(Py_ssize_t N):\n",
    "    \"\"\"Calculate an NxN matrix of the Schilling distribution\n",
    "    \n",
    "    The elements A[n, x] are the number of possible outcomes of an n-sequence of\n",
    "    independent coin-tosses where the maximum length of consecutive heads is\n",
    "    _not_larger_than x.\"\"\"\n",
    "    cdef np.ndarray[np.uint64_t, ndim=2] result\n",
    "    cdef Py_ssize_t n,x\n",
    "    result = np.empty((N, N), np.uint64)\n",
    "    for x in range(N):\n",
    "        for n in range(0, x+1):\n",
    "            result[n,x]=(2**n)\n",
    "        for n in range(x+1,N):\n",
    "            result[n, x]=result[n-1-x:n,x].sum()\n",
    "    return result\n",
    "            \n",
    "def amatrix(Py_ssize_t N):\n",
    "    \"\"\"Calculate an NxN matrix of the Schilling distribution\n",
    "    \n",
    "    The elements a[n, x] are the number of possible outcomes of an n-sequence of\n",
    "    independent coin-tosses where the maximum length of consecutive heads is\n",
    "    _exactly_ x. Thus a[n, x] = A[n, x] - A[n, x-1]\"\"\"\n",
    "    cdef np.ndarray[np.uint64_t, ndim=2] result\n",
    "    cdef Py_ssize_t n,x\n",
    "    cdef Py_ssize_t val\n",
    "    result = np.zeros((N, N), np.uint64)\n",
    "    result[:,0] = 1 # a_n(x=0) = 1\n",
    "    for n in range(N):\n",
    "        result[n,n] = 1 #a_n(x=n) = 1\n",
    "        # a_n(x>n) = 0\n",
    "        for x in range(1, n):\n",
    "            result[n,x] = result[n-1-x:n,x].sum() + result[n-1-x,:x].sum()\n",
    "    return result\n",
    "\n",
    "def pmatrix(Py_ssize_t N):\n",
    "    \"\"\"Calculate an NxN matrix of the Schilling distribution.\n",
    "    \n",
    "    The elements p[n, x] of the resulting matrix are the probabilities that\n",
    "    the length of the longest head-run in a sequence of n independent tosses\n",
    "    of a fair coin is exactly x.\n",
    "    \n",
    "    It holds that p[n, x] = a[n, x] / 2 ** n = (A[n, x] - A[n, x-1]) / 2 ** n\n",
    "    \n",
    "    Note that the probability that the length of the longest run \n",
    "    (no matter if head or tail) in a sequence of n independent \n",
    "    tosses of a fair coin is _exactly_ x is p[n-1, x-1].\n",
    "    \"\"\"\n",
    "    cdef np.ndarray[np.double_t, ndim=2] result\n",
    "    cdef Py_ssize_t n,x,j\n",
    "    cdef double val\n",
    "    result = np.zeros((N, N), np.double)\n",
    "    for n in range(N):\n",
    "        result[n, 0] = 2.0**(-n)\n",
    "        result[n, n] = 2.0**(-n) #p_n(x=n) = 1/2**n\n",
    "        # p_n(x>n) = 0\n",
    "        for x in range(1, n):\n",
    "            val=0\n",
    "            for j in range(n-1-x,n):\n",
    "                val+=2.0**(j-n)*result[j,x]\n",
    "            for j in range(0, x):\n",
    "                val += 2.0**(-x-1)*result[n-1-x,j]\n",
    "            result[n,x] = val\n",
    "    return result\n",
    "    "
   ]
  },
  {
   "cell_type": "markdown",
   "metadata": {},
   "source": [
    "## The cormap_pval algorithm from Daniel Franke, EMBL Hamburg"
   ]
  },
  {
   "cell_type": "code",
   "execution_count": 3,
   "metadata": {
    "collapsed": true
   },
   "outputs": [],
   "source": [
    "def cormap_pval(n, x):\n",
    "    \"\"\"Cormap P-value algorithm, giving the probability that from\n",
    "    n coin-tosses the longest continuous sequence of either heads\n",
    "    or tails is _not_shorter_ than x.\n",
    "    \n",
    "    Python version of the original Fortran90 code of Daniel Franke\"\"\"\n",
    "    dbl_max_exponent=np.finfo(np.double).maxexp-1\n",
    "    P=np.zeros(dbl_max_exponent)\n",
    "    if x <=1:\n",
    "        pval = 1\n",
    "    elif x>n:\n",
    "        pval = 0\n",
    "    elif x>dbl_max_exponent:\n",
    "        pval = 0\n",
    "    elif x==n:\n",
    "        pval = 2.0**(1-x)\n",
    "    else:\n",
    "        half_pow_x = 2**(-x)\n",
    "        P[1:x] = 0\n",
    "        i_x = 0\n",
    "        P[i_x]=2*half_pow_x\n",
    "        for i in range(x+1, n+1):\n",
    "            im1_x = i_x #  == (i-1) % x\n",
    "            i_x = i % x\n",
    "            P[i_x] = P[im1_x] + half_pow_x * (1-P[i_x])\n",
    "        pval = P[i_x]\n",
    "    return pval"
   ]
  },
  {
   "cell_type": "markdown",
   "metadata": {},
   "source": [
    "# Validation of the Cython-algorithms"
   ]
  },
  {
   "cell_type": "markdown",
   "metadata": {},
   "source": [
    "## Check 1\n",
    "Amatrix() returns the same values as Schilling's recursive formula for A_n(x)"
   ]
  },
  {
   "cell_type": "code",
   "execution_count": 4,
   "metadata": {
    "collapsed": false
   },
   "outputs": [
    {
     "name": "stdout",
     "output_type": "stream",
     "text": [
      "The two matrices are the same: True\n"
     ]
    }
   ],
   "source": [
    "N=20\n",
    "# Calculate the matrix for A using the slow method\n",
    "A_slow = np.empty((N,N), np.uint64)\n",
    "for n in range(N):\n",
    "    for x in range(N):\n",
    "        A_slow[n,x]=A(n,x)\n",
    "A_fast = Amatrix(N)\n",
    "print('The two matrices are the same:',(np.abs(A_slow - A_fast)).sum()==0)"
   ]
  },
  {
   "cell_type": "markdown",
   "metadata": {},
   "source": [
    "## Check 2\n",
    "$A_n(x) = \\sum_{j=0}^{x}a_n(j)$"
   ]
  },
  {
   "cell_type": "code",
   "execution_count": 5,
   "metadata": {
    "collapsed": false
   },
   "outputs": [
    {
     "name": "stdout",
     "output_type": "stream",
     "text": [
      "The two matrices are the same: True\n"
     ]
    }
   ],
   "source": [
    "N=50\n",
    "a=amatrix(N)\n",
    "A_fast=Amatrix(N)\n",
    "A_constructed=np.empty((N,N), np.uint64)\n",
    "for x in range(N):\n",
    "    A_constructed[:, x]=a[:,:x+1].sum(axis=1)\n",
    "print('The two matrices are the same:',(np.abs(A_fast - A_constructed).sum()==0))"
   ]
  },
  {
   "cell_type": "markdown",
   "metadata": {},
   "source": [
    "## Check 3\n",
    "$p_n(x) = 2^{-n}a_n(x)$"
   ]
  },
  {
   "cell_type": "code",
   "execution_count": 6,
   "metadata": {
    "collapsed": false
   },
   "outputs": [
    {
     "name": "stdout",
     "output_type": "stream",
     "text": [
      "The two matrices are the same: True\n"
     ]
    }
   ],
   "source": [
    "N=50\n",
    "p=pmatrix(N)\n",
    "a=amatrix(N)\n",
    "p_from_a=np.empty((N,N), np.double)\n",
    "for n in range(N):\n",
    "    p_from_a[n, :] = a[n, :]/2**n\n",
    "print('The two matrices are the same:',(np.abs(p - p_from_a).sum()==0))"
   ]
  },
  {
   "cell_type": "markdown",
   "metadata": {},
   "source": [
    "## Check 4\n",
    "Well-known special cases\n",
    "\n",
    "### 1 toss\n",
    "2 possible outcomes: H, T\n",
    "<table>\n",
    "    <tr><th>Max length</th><th>Outcomes</th><th>p</th></tr>\n",
    "    <tr><td>1</td><td>2</td><td>1</td></tr>\n",
    "</table>\n",
    "\n",
    "### 2 tosses\n",
    "4 possible outcomes: HH, HT, TH, TT\n",
    "<table>\n",
    "    <tr><th>Max length</th><th>Outcomes</th><th>p</th></tr>\n",
    "    <tr><td>1</td><td>2</td><td>0.5</td></tr>\n",
    "    <tr><td>2</td><td>2</td><td>0.5</td></tr>\n",
    "</table>\n",
    "\n",
    "### 3 tosses\n",
    "8 possible outcomes: HHT, HTT, THT, TTT, HHH, HTH, THH, TTH\n",
    "<table>\n",
    "    <tr><th>Max length</th><th>Outcomes</th><th>p</th></tr>\n",
    "    <tr><td>1</td><td>2</td><td>0.25</td></tr>\n",
    "    <tr><td>2</td><td>4</td><td>0.5</td></tr>\n",
    "    <tr><td>2</td><td>2</td><td>0.25</td></tr>\n",
    "</table>\n",
    "\n",
    "### 4 tosses\n",
    "16 possible outcomes:\n",
    "<table>\n",
    "       <tr><th>Outcome</th><th>Longest sequence length</th></tr>\n",
    "       <tr><td>HHTH</td><td>2</td></tr>\n",
    "       <tr><td>HTTH</td><td>2</td></tr>\n",
    "       <tr><td>THTH</td><td>1</td></tr>\n",
    "       <tr><td>TTTH</td><td>3</td></tr>\n",
    "       <tr><td>HHHH</td><td>4</td></tr>\n",
    "       <tr><td>HTHH</td><td>2</td></tr>\n",
    "       <tr><td>THHH</td><td>3</td></tr>\n",
    "       <tr><td>TTHH</td><td>2</td></tr>\n",
    "       <tr><td>HHTT</td><td>2</td></tr>\n",
    "       <tr><td>HTTT</td><td>3</td></tr>\n",
    "       <tr><td>THTT</td><td>2</td></tr>\n",
    "       <tr><td>TTTT</td><td>4</td></tr>\n",
    "       <tr><td>HHHT</td><td>3</td></tr>\n",
    "       <tr><td>HTHT</td><td>1</td></tr>\n",
    "       <tr><td>THHT</td><td>2</td></tr> \n",
    "       <tr><td>TTHT</td><td>2</td></tr>\n",
    "</table>\n",
    "<table>\n",
    "    <tr><th>Max length</th><th>Outcomes</th><th>p</th></tr>\n",
    "    <tr><td>1</td><td>2</td><td>0.125</td></tr>\n",
    "    <tr><td>2</td><td>8</td><td>0.5</td></tr>\n",
    "    <tr><td>3</td><td>4</td><td>0.25</td></tr>\n",
    "    <tr><td>4</td><td>2</td><td>0.125</td></tr>\n",
    "</table>\n"
   ]
  },
  {
   "cell_type": "code",
   "execution_count": 7,
   "metadata": {
    "collapsed": false
   },
   "outputs": [
    {
     "name": "stdout",
     "output_type": "stream",
     "text": [
      "1 toss(es):\n",
      "  p_1(1) = 1.0\n",
      "2 toss(es):\n",
      "  p_2(1) = 0.5\n",
      "  p_2(2) = 0.5\n",
      "3 toss(es):\n",
      "  p_3(1) = 0.25\n",
      "  p_3(2) = 0.5\n",
      "  p_3(3) = 0.25\n",
      "4 toss(es):\n",
      "  p_4(1) = 0.125\n",
      "  p_4(2) = 0.5\n",
      "  p_4(3) = 0.25\n",
      "  p_4(4) = 0.125\n"
     ]
    }
   ],
   "source": [
    "p=pmatrix(50)\n",
    "for n in range(1,5):\n",
    "    print('{} toss(es):'.format(n))\n",
    "    for x in range(1,n+1):\n",
    "        print('  p_{}({}) = {}'.format(n,x,p[n-1,x-1]))"
   ]
  },
  {
   "cell_type": "markdown",
   "metadata": {},
   "source": [
    "# Estimate the execution time"
   ]
  },
  {
   "cell_type": "code",
   "execution_count": 8,
   "metadata": {
    "collapsed": false
   },
   "outputs": [
    {
     "name": "stderr",
     "output_type": "stream",
     "text": [
      "/home/labuser/miniconda3/envs/credolib/lib/python3.5/site-packages/ipykernel/__main__.py:12: RuntimeWarning: divide by zero encountered in log\n"
     ]
    },
    {
     "data": {
      "text/plain": [
       "<matplotlib.legend.Legend at 0x7f8f289b7fd0>"
      ]
     },
     "execution_count": 8,
     "metadata": {},
     "output_type": "execute_result"
    },
    {
     "data": {
      "image/png": "[encoded data removed]",
      "text/plain": [
       "<matplotlib.figure.Figure at 0x7f8f289578d0>"
      ]
     },
     "metadata": {},
     "output_type": "display_data"
    }
   ],
   "source": [
    "Nmax=200\n",
    "times = np.empty(Nmax)\n",
    "for i in range(Nmax):\n",
    "    t0=time.monotonic()\n",
    "    p=pmatrix(i)\n",
    "    times[i]=time.monotonic()-t0\n",
    "plt.loglog(np.arange(Nmax),times,'o-',label='Execution time')\n",
    "plt.xlabel('N')\n",
    "plt.ylabel('Execution time of pmatrix(N) (sec)')\n",
    "x=np.arange(Nmax)\n",
    "a,b=np.polyfit(np.log(x[x>100]), np.log(times[x>100]),1)\n",
    "plt.loglog(x,np.exp(np.log(x)*a+b),'r-', label='$\\\\propto N^{%.3f}$' % a)\n",
    "plt.legend(loc='best')"
   ]
  },
  {
   "cell_type": "markdown",
   "metadata": {},
   "source": [
    "# Some visualization"
   ]
  },
  {
   "cell_type": "code",
   "execution_count": 9,
   "metadata": {
    "collapsed": false
   },
   "outputs": [
    {
     "name": "stdout",
     "output_type": "stream",
     "text": [
      "Most probable maximum head-run length: 4\n"
     ]
    },
    {
     "data": {
      "image/png": "[encoded data removed]",
      "text/plain": [
       "<matplotlib.figure.Figure at 0x7f8f244d46a0>"
      ]
     },
     "metadata": {},
     "output_type": "display_data"
    }
   ],
   "source": [
    "N=50\n",
    "p=pmatrix(N+1)\n",
    "bar(left=np.arange(p.shape[1])-0.5,height=p[N,:])\n",
    "plt.axis(xmin=0,xmax=14)\n",
    "plt.xlabel('Length of the longest head-run in {} tosses'.format(N))\n",
    "plt.ylabel('Probability')\n",
    "print('Most probable maximum head-run length:',p[N,:].argmax())"
   ]
  },
  {
   "cell_type": "markdown",
   "metadata": {},
   "source": [
    "# Large numbers\n",
    "\n",
    "Calculate a large p matrix (takes some time, see above) for use of later computations"
   ]
  },
  {
   "cell_type": "code",
   "execution_count": 10,
   "metadata": {
    "collapsed": false
   },
   "outputs": [
    {
     "name": "stdout",
     "output_type": "stream",
     "text": [
      "Calculating {0}x{0} p-matrix...\n",
      "Done in 602.0220224929508 seconds\n"
     ]
    }
   ],
   "source": [
    "N=2050\n",
    "print('Calculating {0}x{0} p-matrix...', flush=True)\n",
    "t0=time.monotonic()\n",
    "p=pmatrix(N)\n",
    "t=time.monotonic()-t0\n",
    "print('Done in {} seconds'.format(t))\n",
    "np.savez('cointoss_p.npz',p=p)"
   ]
  },
  {
   "cell_type": "markdown",
   "metadata": {},
   "source": [
    "Visualize the matrix: "
   ]
  },
  {
   "cell_type": "code",
   "execution_count": 13,
   "metadata": {
    "collapsed": false
   },
   "outputs": [
    {
     "name": "stderr",
     "output_type": "stream",
     "text": [
      "/home/labuser/miniconda3/envs/credolib/lib/python3.5/site-packages/matplotlib/colors.py:1039: RuntimeWarning: overflow encountered in double_scalars\n",
      "  return vmin * ma.power((vmax / vmin), val)\n"
     ]
    },
    {
     "data": {
      "text/plain": [
       "<matplotlib.colorbar.Colorbar at 0x7f8f24192a20>"
      ]
     },
     "execution_count": 13,
     "metadata": {},
     "output_type": "execute_result"
    },
    {
     "data": {
      "image/png": "[encoded data removed]",
      "text/plain": [
       "<matplotlib.figure.Figure at 0x7f8f24379668>"
      ]
     },
     "metadata": {},
     "output_type": "display_data"
    }
   ],
   "source": [
    "plt.figure(figsize=(8,4))\n",
    "plt.subplot(1,2,1)\n",
    "plt.imshow(p,norm=matplotlib.colors.Normalize(),interpolation='nearest')\n",
    "plt.xlabel('x')\n",
    "plt.ylabel('n')\n",
    "plt.title('Linear colour scale')\n",
    "plt.colorbar()\n",
    "plt.subplot(1,2,2)\n",
    "plt.imshow(p,norm=matplotlib.colors.LogNorm(), interpolation='nearest')\n",
    "plt.xlabel('x')\n",
    "plt.ylabel('n')\n",
    "plt.title('Logarithmic colour scale')\n",
    "plt.colorbar()"
   ]
  },
  {
   "cell_type": "markdown",
   "metadata": {},
   "source": [
    "# Compare with the algorithm in CorMap\n",
    "\n",
    "Note that in CorMap, the p-value is the probability that the longest continuous sequence of either heads or tails in $n$ coin-tosses is **not shorter** than $x$, while our ``pmatrix()`` gives the probability that it is **exactly** $x$ long. The desired quantity is obtained from the ``pmatrix()`` approach as $\\sum_{j \\ge(x-1)} p_n(j)$."
   ]
  },
  {
   "cell_type": "code",
   "execution_count": 15,
   "metadata": {
    "collapsed": false
   },
   "outputs": [
    {
     "data": {
      "text/html": [
       "<table border=\"1\" cellpadding=\"3\" cellspacing=\"0\"  style=\"border:1px solid black;border-collapse:collapse;\"><tr><td  style=\"background-color:LightGray;\"><b>n</b></td><td  style=\"background-color:LightGray;\"><b>x</b></td><td  style=\"background-color:LightGray;\"><b>p&nbsp(D.&nbspFranke)</b></td><td  style=\"background-color:LightGray;\"><b>p&nbsp(A.&nbspWacha)</b></td></tr><tr><td  style=\"background-color:Ivory;\">449</td><td  style=\"background-color:Ivory;\">137</td><td  style=\"background-color:Ivory;\">1.8022716121e-39</td><td  style=\"background-color:Ivory;\">1.8022716121e-39</td></tr><tr><td  style=\"background-color:AliceBlue;\">449</td><td  style=\"background-color:AliceBlue;\">10</td><td  style=\"background-color:AliceBlue;\">0.352523622439</td><td  style=\"background-color:AliceBlue;\">0.352523622439</td></tr><tr><td  style=\"background-color:Ivory;\">2039</td><td  style=\"background-color:Ivory;\">338</td><td  style=\"background-color:Ivory;\">3.04141801149e-99</td><td  style=\"background-color:Ivory;\">3.04141801149e-99</td></tr><tr><td  style=\"background-color:AliceBlue;\">2039</td><td  style=\"background-color:AliceBlue;\">18</td><td  style=\"background-color:AliceBlue;\">0.00768794102072</td><td  style=\"background-color:AliceBlue;\">0.00768794102072</td></tr><tr><td  style=\"background-color:Ivory;\">200</td><td  style=\"background-color:Ivory;\">11</td><td  style=\"background-color:Ivory;\">0.0894719050962</td><td  style=\"background-color:Ivory;\">0.0894719050962</td></tr><tr><td  style=\"background-color:AliceBlue;\">10</td><td  style=\"background-color:AliceBlue;\">2</td><td  style=\"background-color:AliceBlue;\">0.998046875</td><td  style=\"background-color:AliceBlue;\">0.998046875</td></tr><tr><td  style=\"background-color:Ivory;\">1</td><td  style=\"background-color:Ivory;\">0</td><td  style=\"background-color:Ivory;\">1</td><td  style=\"background-color:Ivory;\">1.0</td></tr><tr><td  style=\"background-color:AliceBlue;\">1</td><td  style=\"background-color:AliceBlue;\">1</td><td  style=\"background-color:AliceBlue;\">1</td><td  style=\"background-color:AliceBlue;\">1.0</td></tr><tr><td  style=\"background-color:Ivory;\">2</td><td  style=\"background-color:Ivory;\">0</td><td  style=\"background-color:Ivory;\">1</td><td  style=\"background-color:Ivory;\">1.0</td></tr><tr><td  style=\"background-color:AliceBlue;\">2</td><td  style=\"background-color:AliceBlue;\">1</td><td  style=\"background-color:AliceBlue;\">1</td><td  style=\"background-color:AliceBlue;\">1.0</td></tr><tr><td  style=\"background-color:Ivory;\">2</td><td  style=\"background-color:Ivory;\">2</td><td  style=\"background-color:Ivory;\">0.5</td><td  style=\"background-color:Ivory;\">0.5</td></tr><tr><td  style=\"background-color:AliceBlue;\">3</td><td  style=\"background-color:AliceBlue;\">0</td><td  style=\"background-color:AliceBlue;\">1</td><td  style=\"background-color:AliceBlue;\">1.0</td></tr><tr><td  style=\"background-color:Ivory;\">3</td><td  style=\"background-color:Ivory;\">1</td><td  style=\"background-color:Ivory;\">1</td><td  style=\"background-color:Ivory;\">1.0</td></tr><tr><td  style=\"background-color:AliceBlue;\">3</td><td  style=\"background-color:AliceBlue;\">2</td><td  style=\"background-color:AliceBlue;\">0.75</td><td  style=\"background-color:AliceBlue;\">0.75</td></tr><tr><td  style=\"background-color:Ivory;\">3</td><td  style=\"background-color:Ivory;\">3</td><td  style=\"background-color:Ivory;\">0.25</td><td  style=\"background-color:Ivory;\">0.25</td></tr><tr><td  style=\"background-color:AliceBlue;\">4</td><td  style=\"background-color:AliceBlue;\">0</td><td  style=\"background-color:AliceBlue;\">1</td><td  style=\"background-color:AliceBlue;\">1.0</td></tr><tr><td  style=\"background-color:Ivory;\">4</td><td  style=\"background-color:Ivory;\">1</td><td  style=\"background-color:Ivory;\">1</td><td  style=\"background-color:Ivory;\">1.0</td></tr><tr><td  style=\"background-color:AliceBlue;\">4</td><td  style=\"background-color:AliceBlue;\">2</td><td  style=\"background-color:AliceBlue;\">0.875</td><td  style=\"background-color:AliceBlue;\">0.875</td></tr><tr><td  style=\"background-color:Ivory;\">4</td><td  style=\"background-color:Ivory;\">3</td><td  style=\"background-color:Ivory;\">0.375</td><td  style=\"background-color:Ivory;\">0.375</td></tr><tr><td  style=\"background-color:AliceBlue;\">4</td><td  style=\"background-color:AliceBlue;\">4</td><td  style=\"background-color:AliceBlue;\">0.125</td><td  style=\"background-color:AliceBlue;\">0.125</td></tr></table>"
      ],
      "text/plain": [
       "<ipy_table.IpyTable at 0x7f8f2443dda0>"
      ]
     },
     "metadata": {},
     "output_type": "display_data"
    }
   ],
   "source": [
    "table =[['n', 'x', 'p (D. Franke)', 'p (A. Wacha)']]\n",
    "for n, x in [(449,137),(449,10),(2039,338),(2039,18),(200,11),(10,2), (1,0), (1,1), (2,0), (2,1), (2,2), (3,0), (3,1), (3,2), (3,3), (4,0), (4,1), (4,2), (4,3), (4,4)]:\n",
    "    table.append([n,x,cormap_pval(n,x), p[n-1,max(0,x-1):].sum()])\n",
    "    \n",
    "tab=ipy_table.IpyTable(table)\n",
    "tab.apply_theme('basic')\n",
    "display(tab)"
   ]
  },
  {
   "cell_type": "code",
   "execution_count": null,
   "metadata": {
    "collapsed": true
   },
   "outputs": [],
   "source": []
  }
 ],
 "metadata": {
  "anaconda-cloud": {},
  "kernelspec": {
   "display_name": "Python [conda env:credolib]",
   "language": "python",
   "name": "conda-env-credolib-py"
  },
  "language_info": {
   "codemirror_mode": {
    "name": "ipython",
    "version": 3
   },
   "file_extension": ".py",
   "mimetype": "text/x-python",
   "name": "python",
   "nbconvert_exporter": "python",
   "pygments_lexer": "ipython3",
   "version": "3.5.2"
  }
 },
 "nbformat": 4,
 "nbformat_minor": 1
}
